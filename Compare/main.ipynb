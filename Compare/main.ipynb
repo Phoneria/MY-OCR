{
 "cells": [
  {
   "cell_type": "code",
   "execution_count": null,
   "metadata": {},
   "outputs": [],
   "source": [
    "!pip install jiwer"
   ]
  },
  {
   "cell_type": "code",
   "execution_count": 4,
   "metadata": {},
   "outputs": [],
   "source": []
  },
  {
   "cell_type": "code",
   "execution_count": 17,
   "metadata": {},
   "outputs": [
    {
     "name": "stdout",
     "output_type": "stream",
     "text": [
      "WER results saved to: C:\\Users\\AZMI\\Desktop\\Izzet Ahmet\\Kodlar\\OCR\\wer_results.csv\n"
     ]
    }
   ],
   "source": [
    "import pandas as pd\n",
    "\n",
    "def calculate_wer(csv_file_path, ground_truth_path, conf_level=0.7):\n",
    "    \"\"\"\n",
    "    Calculate the Word Error Rate (WER) for the given OCR CSV file against the ground truth.\n",
    "\n",
    "    Parameters:\n",
    "    csv_file_path (str): Path to the CSV file containing OCR results (Text, Confidence).\n",
    "    ground_truth_path (str): Path to the ground truth text file.\n",
    "    conf_level (float): Confidence threshold for filtering OCR results.\n",
    "\n",
    "    Returns:\n",
    "    float: WER value for the given CSV file.\n",
    "    \"\"\"\n",
    "    # Load OCR results\n",
    "    ocr_df = pd.read_csv(csv_file_path)\n",
    "    \n",
    "    # Filter by confidence level\n",
    "    filtered_ocr_df = ocr_df[ocr_df['Confidence'] >= conf_level]\n",
    "    \n",
    "    # Combine filtered OCR results into one string\n",
    "    ocr_text = \" \".join(filtered_ocr_df['Text'].astype(str))\n",
    "\n",
    "    # Load ground truth words\n",
    "    with open(ground_truth_path, \"r\", encoding=\"utf-8\") as gt_file:\n",
    "        ground_truth_text = gt_file.read().strip()\n",
    "\n",
    "    # Calculate WER\n",
    "    wer_score = wer(ground_truth_text, ocr_text)\n",
    "    return wer_score\n",
    "\n",
    "# Paths\n",
    "easyocr_csv_path = r\"C:\\Users\\AZMI\\Desktop\\Izzet Ahmet\\Kodlar\\OCR\\easyocr_results.csv\"\n",
    "pytesseract_csv_path = r\"C:\\Users\\AZMI\\Desktop\\Izzet Ahmet\\Kodlar\\OCR\\pytesseract_results.csv\"\n",
    "ground_truth_path = r\"C:\\Users\\AZMI\\Desktop\\Izzet Ahmet\\Kodlar\\OCR\\words.txt\"\n",
    "\n",
    "# Calculate WER for confidence levels from 0.0 to 1.0 with a step of 0.1\n",
    "confidence_levels = [round(x * 0.1, 1) for x in range(11)]  # [0.0, 0.1, ..., 1.0]\n",
    "results = []\n",
    "\n",
    "for conf in confidence_levels:\n",
    "    easyocr_wer = calculate_wer(easyocr_csv_path, ground_truth_path, conf_level=conf)\n",
    "    pytesseract_wer = calculate_wer(pytesseract_csv_path, ground_truth_path, conf_level=conf)\n",
    "    results.append({'Confidence Level': conf, 'EasyOCR WER': easyocr_wer, 'Pytesseract WER': pytesseract_wer})\n",
    "\n",
    "# Save results to a CSV file\n",
    "results_df = pd.DataFrame(results)\n",
    "output_csv_path = r\"C:\\Users\\AZMI\\Desktop\\Izzet Ahmet\\Kodlar\\OCR\\wer_results.csv\"\n",
    "results_df.to_csv(output_csv_path, index=False)\n",
    "\n",
    "print(f\"WER results saved to: {output_csv_path}\")\n"
   ]
  },
  {
   "cell_type": "code",
   "execution_count": null,
   "metadata": {},
   "outputs": [],
   "source": []
  }
 ],
 "metadata": {
  "kernelspec": {
   "display_name": "my_ocr",
   "language": "python",
   "name": "python3"
  },
  "language_info": {
   "codemirror_mode": {
    "name": "ipython",
    "version": 3
   },
   "file_extension": ".py",
   "mimetype": "text/x-python",
   "name": "python",
   "nbconvert_exporter": "python",
   "pygments_lexer": "ipython3",
   "version": "3.12.3"
  }
 },
 "nbformat": 4,
 "nbformat_minor": 2
}
