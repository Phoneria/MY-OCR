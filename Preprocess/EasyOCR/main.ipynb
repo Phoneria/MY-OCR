{
 "cells": [
  {
   "cell_type": "code",
   "execution_count": 1,
   "metadata": {},
   "outputs": [],
   "source": [
    "import os\n",
    "import easyocr\n",
    "from PIL import Image, ImageDraw\n",
    "import matplotlib.pyplot as plt\n",
    "import time  \n",
    "import pandas as pd"
   ]
  },
  {
   "cell_type": "code",
   "execution_count": 2,
   "metadata": {},
   "outputs": [],
   "source": [
    "# Function to display the image\n",
    "def display_image(img, img_name=None, figsize=(10, 10)):\n",
    "    \"\"\"\n",
    "    Displays an image with optional title and customizable size.\n",
    "    \"\"\"\n",
    "    plt.figure(figsize=figsize)  # Set the figure size\n",
    "    plt.imshow(img)\n",
    "    plt.axis('off')  # Turn off axis for better visualization\n",
    "    if img_name:\n",
    "        plt.title(img_name)  # Optional: Add a title\n",
    "    plt.show()"
   ]
  },
  {
   "cell_type": "code",
   "execution_count": 14,
   "metadata": {},
   "outputs": [],
   "source": [
    "# OCR Processing Function with Confidence Threshold and Bounding Box Coordinates\n",
    "def process_image(image_path, output_dir, reader, confidence_threshold=0.8):\n",
    "    \"\"\"\n",
    "    Processes a single image using EasyOCR with a confidence threshold.\n",
    "    Annotates the image with bounding boxes and saves OCR results to a CSV file.\n",
    "    \"\"\"\n",
    "    # Start timing\n",
    "    start_time = time.time()\n",
    "\n",
    "    # Load the image\n",
    "    image = Image.open(image_path)\n",
    "\n",
    "    # Perform OCR\n",
    "    results = reader.readtext(image_path)\n",
    "\n",
    "    # Annotate the image\n",
    "    annotated_image = image.copy()\n",
    "    draw = ImageDraw.Draw(annotated_image)\n",
    "    text_output = []  # Initialize a list to hold OCR result data for CSV\n",
    "\n",
    "    for (bbox, text, confidence) in results:\n",
    "        # Filter results based on confidence threshold\n",
    "        if confidence >= confidence_threshold:\n",
    "            # Draw bounding box\n",
    "            top_left = tuple(bbox[0])\n",
    "            bottom_right = tuple(bbox[2])\n",
    "            draw.rectangle([top_left, bottom_right], outline=\"blue\", width=3)\n",
    "            \n",
    "            # Annotate text\n",
    "            draw.text((top_left[0], bottom_right[1] + 5), text, fill=\"red\")  # Place text below the bounding box\n",
    "            \n",
    "            # Append text, confidence, and bounding box to the output\n",
    "            text_output.append([text, bbox, confidence])\n",
    "\n",
    "    # Generate output file names\n",
    "    base_name = os.path.splitext(os.path.basename(image_path))[0]\n",
    "    annotated_image_path = os.path.join(output_dir, f\"Annotated_{base_name}.png\")\n",
    "    csv_output_path = os.path.join(output_dir, f\"OCR_{base_name}.csv\")\n",
    "\n",
    "    # Save annotated image\n",
    "    annotated_image.save(annotated_image_path)\n",
    "\n",
    "    # Save text output to CSV\n",
    "    if text_output:\n",
    "        df = pd.DataFrame(text_output, columns=[\"Text\", \"Bounding Box\", \"Confidence\"])\n",
    "        df.to_csv(csv_output_path, index=False, encoding='utf-8')\n",
    "\n",
    "    # End timing and calculate elapsed time\n",
    "    elapsed_time = time.time() - start_time\n",
    "    print(f\"Processed: {image_path} in {elapsed_time:.2f} seconds\")\n"
   ]
  },
  {
   "cell_type": "code",
   "execution_count": 15,
   "metadata": {},
   "outputs": [],
   "source": [
    "# Main script to process all PNG images\n",
    "def process_all_images(input_dir, output_dir, confidence_threshold=0.8, reader_language=\"en\"):\n",
    "    \"\"\"\n",
    "    Processes all PNG images in the input directory with a confidence threshold.\n",
    "    Saves annotated images and OCR results to the output directory in CSV format.\n",
    "    \"\"\"\n",
    "    # Ensure output directory exists\n",
    "    os.makedirs(output_dir, exist_ok=True)\n",
    "\n",
    "    # Initialize EasyOCR reader\n",
    "    reader = easyocr.Reader([reader_language])\n",
    "\n",
    "    # Iterate over all PNG files in the input directory\n",
    "    for file_name in os.listdir(input_dir):\n",
    "        if file_name.lower().endswith('.png'):\n",
    "            image_path = os.path.join(input_dir, file_name)\n",
    "            process_image(image_path, output_dir, reader, confidence_threshold)\n"
   ]
  },
  {
   "cell_type": "code",
   "execution_count": 17,
   "metadata": {},
   "outputs": [
    {
     "name": "stderr",
     "output_type": "stream",
     "text": [
      "Neither CUDA nor MPS are available - defaulting to CPU. Note: This module is much faster with a GPU.\n"
     ]
    },
    {
     "name": "stdout",
     "output_type": "stream",
     "text": [
      "Processed: C:\\Users\\AZMI\\Desktop\\Izzet Ahmet\\Kodlar\\OCR\\Preprocess\\Processed images\\adaptive_gaussian.png in 5.01 seconds\n",
      "Processed: C:\\Users\\AZMI\\Desktop\\Izzet Ahmet\\Kodlar\\OCR\\Preprocess\\Processed images\\adaptive_mean.png in 5.89 seconds\n",
      "Processed: C:\\Users\\AZMI\\Desktop\\Izzet Ahmet\\Kodlar\\OCR\\Preprocess\\Processed images\\binary_threshold_60.png in 5.15 seconds\n",
      "Processed: C:\\Users\\AZMI\\Desktop\\Izzet Ahmet\\Kodlar\\OCR\\Preprocess\\Processed images\\binary_threshold_70.png in 5.73 seconds\n",
      "Processed: C:\\Users\\AZMI\\Desktop\\Izzet Ahmet\\Kodlar\\OCR\\Preprocess\\Processed images\\binary_threshold_80.png in 6.24 seconds\n",
      "Processed: C:\\Users\\AZMI\\Desktop\\Izzet Ahmet\\Kodlar\\OCR\\Preprocess\\Processed images\\binary_threshold_90.png in 6.21 seconds\n",
      "Processed: C:\\Users\\AZMI\\Desktop\\Izzet Ahmet\\Kodlar\\OCR\\Preprocess\\Processed images\\easyocr_output.png in 8.37 seconds\n",
      "Processed: C:\\Users\\AZMI\\Desktop\\Izzet Ahmet\\Kodlar\\OCR\\Preprocess\\Processed images\\local_threshold.png in 5.29 seconds\n",
      "Processed: C:\\Users\\AZMI\\Desktop\\Izzet Ahmet\\Kodlar\\OCR\\Preprocess\\Processed images\\masked_image.png in 8.91 seconds\n",
      "Processed: C:\\Users\\AZMI\\Desktop\\Izzet Ahmet\\Kodlar\\OCR\\Preprocess\\Processed images\\masked_image_V0.png in 3.47 seconds\n",
      "Processed: C:\\Users\\AZMI\\Desktop\\Izzet Ahmet\\Kodlar\\OCR\\Preprocess\\Processed images\\masked_image_V1.png in 6.06 seconds\n",
      "Processed: C:\\Users\\AZMI\\Desktop\\Izzet Ahmet\\Kodlar\\OCR\\Preprocess\\Processed images\\masked_image_V2.png in 4.88 seconds\n",
      "Processed: C:\\Users\\AZMI\\Desktop\\Izzet Ahmet\\Kodlar\\OCR\\Preprocess\\Processed images\\noise_removed_70.png in 5.88 seconds\n",
      "Processed: C:\\Users\\AZMI\\Desktop\\Izzet Ahmet\\Kodlar\\OCR\\Preprocess\\Processed images\\noise_removed_80.png in 6.35 seconds\n",
      "Processed: C:\\Users\\AZMI\\Desktop\\Izzet Ahmet\\Kodlar\\OCR\\Preprocess\\Processed images\\noise_removed_90.png in 6.06 seconds\n",
      "Processed: C:\\Users\\AZMI\\Desktop\\Izzet Ahmet\\Kodlar\\OCR\\Preprocess\\Processed images\\Original.png in 11.61 seconds\n",
      "Processed: C:\\Users\\AZMI\\Desktop\\Izzet Ahmet\\Kodlar\\OCR\\Preprocess\\Processed images\\original_gray.png in 6.23 seconds\n"
     ]
    }
   ],
   "source": [
    "image_files = r\"C:\\Users\\AZMI\\Desktop\\Izzet Ahmet\\Kodlar\\OCR\\Preprocess\\Processed images\"\n",
    "# Process all images with a confidence threshold of 0.0 for Turkish\n",
    "output_dir_tr_0 = r'C:\\Users\\AZMI\\Desktop\\Izzet Ahmet\\Kodlar\\OCR\\Processed_TR_0_Conf'\n",
    "process_all_images(image_files, output_dir_tr_0, confidence_threshold=0.0, reader_language=\"tr\")\n"
   ]
  },
  {
   "cell_type": "code",
   "execution_count": 20,
   "metadata": {},
   "outputs": [
    {
     "name": "stdout",
     "output_type": "stream",
     "text": [
      "Error processing file C:\\Users\\AZMI\\Desktop\\Izzet Ahmet\\Kodlar\\OCR\\Preprocess\\EasyOCR\\Processed_TR_0_Conf\\Annotated_adaptive_gaussian.png: 'utf-8' codec can't decode byte 0x89 in position 0: invalid start byte\n",
      "Error processing file C:\\Users\\AZMI\\Desktop\\Izzet Ahmet\\Kodlar\\OCR\\Preprocess\\EasyOCR\\Processed_TR_0_Conf\\Annotated_adaptive_mean.png: 'utf-8' codec can't decode byte 0x89 in position 0: invalid start byte\n",
      "Error processing file C:\\Users\\AZMI\\Desktop\\Izzet Ahmet\\Kodlar\\OCR\\Preprocess\\EasyOCR\\Processed_TR_0_Conf\\Annotated_binary_threshold_60.png: 'utf-8' codec can't decode byte 0x89 in position 0: invalid start byte\n",
      "Error processing file C:\\Users\\AZMI\\Desktop\\Izzet Ahmet\\Kodlar\\OCR\\Preprocess\\EasyOCR\\Processed_TR_0_Conf\\Annotated_binary_threshold_70.png: 'utf-8' codec can't decode byte 0x89 in position 0: invalid start byte\n",
      "Error processing file C:\\Users\\AZMI\\Desktop\\Izzet Ahmet\\Kodlar\\OCR\\Preprocess\\EasyOCR\\Processed_TR_0_Conf\\Annotated_binary_threshold_80.png: 'utf-8' codec can't decode byte 0x89 in position 0: invalid start byte\n",
      "Error processing file C:\\Users\\AZMI\\Desktop\\Izzet Ahmet\\Kodlar\\OCR\\Preprocess\\EasyOCR\\Processed_TR_0_Conf\\Annotated_binary_threshold_90.png: 'utf-8' codec can't decode byte 0x89 in position 0: invalid start byte\n",
      "Error processing file C:\\Users\\AZMI\\Desktop\\Izzet Ahmet\\Kodlar\\OCR\\Preprocess\\EasyOCR\\Processed_TR_0_Conf\\Annotated_easyocr_output.png: 'utf-8' codec can't decode byte 0x89 in position 0: invalid start byte\n",
      "Error processing file C:\\Users\\AZMI\\Desktop\\Izzet Ahmet\\Kodlar\\OCR\\Preprocess\\EasyOCR\\Processed_TR_0_Conf\\Annotated_local_threshold.png: 'utf-8' codec can't decode byte 0x89 in position 0: invalid start byte\n",
      "Error processing file C:\\Users\\AZMI\\Desktop\\Izzet Ahmet\\Kodlar\\OCR\\Preprocess\\EasyOCR\\Processed_TR_0_Conf\\Annotated_masked_image.png: 'utf-8' codec can't decode byte 0x89 in position 0: invalid start byte\n",
      "Error processing file C:\\Users\\AZMI\\Desktop\\Izzet Ahmet\\Kodlar\\OCR\\Preprocess\\EasyOCR\\Processed_TR_0_Conf\\Annotated_masked_image_V0.png: 'utf-8' codec can't decode byte 0x89 in position 0: invalid start byte\n",
      "Error processing file C:\\Users\\AZMI\\Desktop\\Izzet Ahmet\\Kodlar\\OCR\\Preprocess\\EasyOCR\\Processed_TR_0_Conf\\Annotated_masked_image_V1.png: 'utf-8' codec can't decode byte 0x89 in position 0: invalid start byte\n",
      "Error processing file C:\\Users\\AZMI\\Desktop\\Izzet Ahmet\\Kodlar\\OCR\\Preprocess\\EasyOCR\\Processed_TR_0_Conf\\Annotated_masked_image_V2.png: 'utf-8' codec can't decode byte 0x89 in position 0: invalid start byte\n",
      "Error processing file C:\\Users\\AZMI\\Desktop\\Izzet Ahmet\\Kodlar\\OCR\\Preprocess\\EasyOCR\\Processed_TR_0_Conf\\Annotated_noise_removed_70.png: 'utf-8' codec can't decode byte 0x89 in position 0: invalid start byte\n",
      "Error processing file C:\\Users\\AZMI\\Desktop\\Izzet Ahmet\\Kodlar\\OCR\\Preprocess\\EasyOCR\\Processed_TR_0_Conf\\Annotated_noise_removed_80.png: 'utf-8' codec can't decode byte 0x89 in position 0: invalid start byte\n",
      "Error processing file C:\\Users\\AZMI\\Desktop\\Izzet Ahmet\\Kodlar\\OCR\\Preprocess\\EasyOCR\\Processed_TR_0_Conf\\Annotated_noise_removed_90.png: 'utf-8' codec can't decode byte 0x89 in position 0: invalid start byte\n",
      "Error processing file C:\\Users\\AZMI\\Desktop\\Izzet Ahmet\\Kodlar\\OCR\\Preprocess\\EasyOCR\\Processed_TR_0_Conf\\Annotated_Original.png: 'utf-8' codec can't decode byte 0x89 in position 0: invalid start byte\n",
      "Error processing file C:\\Users\\AZMI\\Desktop\\Izzet Ahmet\\Kodlar\\OCR\\Preprocess\\EasyOCR\\Processed_TR_0_Conf\\Annotated_original_gray.png: 'utf-8' codec can't decode byte 0x89 in position 0: invalid start byte\n",
      "WER calculation complete. Results saved to C:\\Users\\AZMI\\Desktop\\Izzet Ahmet\\Kodlar\\OCR\\Preprocess\\EasyOCR\\WER_Results.csv.\n"
     ]
    }
   ],
   "source": [
    "import os\n",
    "import pandas as pd\n",
    "from jiwer import wer\n",
    "\n",
    "# Path to ground truth words file\n",
    "ground_truth_path = r\"C:\\Users\\AZMI\\Desktop\\Izzet Ahmet\\Kodlar\\OCR\\Preprocess\\Compare\\words.txt\"\n",
    "\n",
    "# Read ground truth words\n",
    "with open(ground_truth_path, 'r', encoding='utf-8') as file:\n",
    "    ground_truth_words = file.read().strip()\n",
    "\n",
    "# List of CSV file paths (replace with your actual list of paths)\n",
    "csv_files = os.listdir(r\"C:\\Users\\AZMI\\Desktop\\Izzet Ahmet\\Kodlar\\OCR\\Preprocess\\EasyOCR\\Processed_TR_0_Conf\")\n",
    "\n",
    "# Result list for WER calculation\n",
    "results = []\n",
    "\n",
    "# Process each CSV file\n",
    "for csv_file in csv_files:\n",
    "    csv_file = os.path.join(r\"C:\\Users\\AZMI\\Desktop\\Izzet Ahmet\\Kodlar\\OCR\\Preprocess\\EasyOCR\\Processed_TR_0_Conf\", csv_file)\n",
    "    if os.path.isfile(csv_file):  # Check if the file exists\n",
    "        try:\n",
    "            # Read the CSV file\n",
    "            df = pd.read_csv(csv_file)\n",
    "\n",
    "            # Concatenate all texts in the 'Text' column\n",
    "            detected_text = \" \".join(df['Text'].astype(str).tolist())\n",
    "\n",
    "            # Calculate WER\n",
    "            file_wer = wer(ground_truth_words, detected_text)\n",
    "\n",
    "            # Append results\n",
    "            results.append({\"File Name\": os.path.basename(csv_file), \"WER\": file_wer})\n",
    "        except Exception as e:\n",
    "            print(f\"Error processing file {csv_file}: {e}\")\n",
    "    else:\n",
    "        print(f\"File not found: {csv_file}\")\n",
    "\n",
    "# Create a DataFrame for results\n",
    "results_df = pd.DataFrame(results)\n",
    "\n",
    "# Save results to a new CSV file\n",
    "output_path = r\"C:\\Users\\AZMI\\Desktop\\Izzet Ahmet\\Kodlar\\OCR\\Preprocess\\EasyOCR\\WER_Results.csv\"\n",
    "results_df.to_csv(output_path, index=False)\n",
    "\n",
    "print(f\"WER calculation complete. Results saved to {output_path}.\")\n"
   ]
  },
  {
   "cell_type": "code",
   "execution_count": null,
   "metadata": {},
   "outputs": [],
   "source": []
  }
 ],
 "metadata": {
  "kernelspec": {
   "display_name": "my_ocr",
   "language": "python",
   "name": "python3"
  },
  "language_info": {
   "codemirror_mode": {
    "name": "ipython",
    "version": 3
   },
   "file_extension": ".py",
   "mimetype": "text/x-python",
   "name": "python",
   "nbconvert_exporter": "python",
   "pygments_lexer": "ipython3",
   "version": "3.12.3"
  }
 },
 "nbformat": 4,
 "nbformat_minor": 2
}
